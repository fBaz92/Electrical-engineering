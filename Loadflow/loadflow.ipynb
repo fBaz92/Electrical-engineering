{
 "cells": [
  {
   "cell_type": "code",
   "execution_count": 1,
   "metadata": {
    "collapsed": true
   },
   "outputs": [],
   "source": [
    "from Utilities.ElectricalObjects import Node, Line, Grid"
   ]
  },
  {
   "cell_type": "markdown",
   "metadata": {
    "collapsed": false
   },
   "source": [
    "## Initilization\n",
    "\n",
    "The implementation of the Node, Line and Grid classes is in the Utils.ElectricalObjects package\n",
    "\n",
    "Each node has 9 fields:\n",
    "\n",
    "- type: 1 Slack, 2 PV, 3 PQ\n",
    "- fixed voltage\n",
    "- fixed angle\n",
    "- Pg: generated active power\n",
    "- Qg: generated reactive power\n",
    "- Pl: active power absorbed by the load\n",
    "- Ql: reactive power absorbed by the load\n",
    "- Qmin: minimum value of the reactive power\n",
    "- Qmax: maximum value of the reactive power\n",
    "- name: name of the node\n",
    "\n",
    "Each line has 6 fields:\n",
    "\n",
    "- Node from: Nobe object of the starting bus\n",
    "- Node to: Node object of the arriving bus\n",
    "- r: pu value of the resistance of the line\n",
    "- x: pu value of the reactance of the line\n",
    "- b: pu value of the susceptance of the line\n",
    "- a: conversion factor that accounts for transformers in the line"
   ]
  },
  {
   "cell_type": "code",
   "execution_count": 2,
   "metadata": {
    "collapsed": false,
    "pycharm": {
     "name": "#%%\n"
    }
   },
   "outputs": [],
   "source": [
    "#Node instances\n",
    "n1 = Node.create_slack(1.05, name=\"Slack\")\n",
    "n2 = Node.create_pv(1.05, 0.5, -0.5, 1.0, name=\"Generator1\")\n",
    "n3 = Node.create_pv(1.07, 0.6, -0.5, 1.5, name=\"Generator2\")\n",
    "n4 = Node.create_pq(0.7, 0.7, name=\"Load1\")\n",
    "n5 = Node.create_pq(0.7, 0.7, name=\"Load2\")\n",
    "n6 = Node.create_pq(0.7, 0.7, name=\"Load3\")\n",
    "\n",
    "#Line instances\n",
    "l1 = Line(n1, n2, 0.1, 0.2, 0.02, 1, name=\"Line1\")\n",
    "l2 = Line(n1, n4, 0.05, 0.2, 0.02, 1, name=\"Line2\")\n",
    "l3 = Line(n1, n5, 0.08, 0.3, 0.03, 1, name=\"Line3\")\n",
    "l4 = Line(n2, n3, 0.05, 0.25, 0.03, 1, name=\"Line4\")\n",
    "l5 = Line(n2, n4, 0.05, 0.1, 0.01, 1, name=\"Line5\")\n",
    "l6 = Line(n2, n5, 0.1, 0.3, 0.02, 1, name=\"Line6\")\n",
    "l7 = Line(n2, n6, 0.07, 0.2, 0.025, 1, name=\"Line7\")\n",
    "l8 = Line(n3, n5, 0.12, 0.26, 0.025, 1, name=\"Line8\")\n",
    "l9 = Line(n3, n6, 0.02, 0.1, 0.01, 1, name=\"Line9\")\n",
    "l10 = Line(n4, n5, 0.2, 0.4, 0.04, 1, name=\"Line10\")\n",
    "l11 = Line(n5, n6, 0.1, 0.3, 0.03, 1, name=\"Line11\")"
   ]
  },
  {
   "cell_type": "code",
   "execution_count": 3,
   "metadata": {
    "collapsed": false,
    "pycharm": {
     "name": "#%%\n"
    }
   },
   "outputs": [],
   "source": [
    "nodes = [n1, n2, n3, n4, n5, n6]\n",
    "lines = [l1, l2, l3, l4, l5, l6, l7, l8, l9, l10, l11]\n",
    "\n",
    "#each grid object is initlialized starting from lists of nodes and lines\n",
    "grid = Grid(nodes=nodes, lines=lines)"
   ]
  },
  {
   "cell_type": "markdown",
   "metadata": {
    "collapsed": false
   },
   "source": [
    "The loadflow method starts the calculations"
   ]
  },
  {
   "cell_type": "code",
   "execution_count": 4,
   "metadata": {
    "collapsed": false,
    "pycharm": {
     "name": "#%%\n"
    }
   },
   "outputs": [],
   "source": [
    "grid.loadflow()"
   ]
  },
  {
   "cell_type": "markdown",
   "metadata": {
    "collapsed": false
   },
   "source": [
    "The method finds a solutions in 20 iterations. In 20 iterations the residual becomes lesser than 1e-5"
   ]
  },
  {
   "cell_type": "code",
   "execution_count": 5,
   "metadata": {
    "collapsed": false,
    "pycharm": {
     "name": "#%%\n"
    }
   },
   "outputs": [
    {
     "data": {
      "text/plain": [
       "20"
      ]
     },
     "execution_count": 5,
     "metadata": {},
     "output_type": "execute_result"
    }
   ],
   "source": [
    "grid.iter"
   ]
  },
  {
   "cell_type": "markdown",
   "metadata": {
    "collapsed": false
   },
   "source": [
    "This is the Jacobian calculated"
   ]
  },
  {
   "cell_type": "code",
   "execution_count": 6,
   "metadata": {
    "collapsed": false,
    "pycharm": {
     "name": "#%%\n"
    }
   },
   "outputs": [
    {
     "data": {
      "text/plain": [
       "array([[ 27.00596658,  -4.4859515 ,  -9.28257523,  -3.5102146 ,\n",
       "         -5.21683799,  -4.34260736,  -1.07804407,  -1.6783101 ],\n",
       "       [ -4.48635596,  19.45695681,  -0.        ,  -3.71065523,\n",
       "        -11.25994561,   0.        ,  -1.57764838,  -2.062858  ],\n",
       "       [ -9.30691179,   0.        ,  16.94527665,  -2.33428207,\n",
       "          0.        ,   6.6380425 ,  -1.06884641,   0.        ],\n",
       "       [ -3.50880233,  -3.70781675,  -2.32677324,  16.59459725,\n",
       "         -3.52311847,  -1.09015606,   5.72713323,  -1.08147497],\n",
       "       [ -5.21271735, -11.25384783,  -0.        ,  -3.5218851 ,\n",
       "         19.98845028,   0.        ,  -1.0857063 ,   4.85212862],\n",
       "       [  4.62303519,  -0.        ,  -7.15510115,   1.157755  ,\n",
       "         -0.        ,  15.7385439 ,  -2.1550233 ,   0.        ],\n",
       "       [  1.17195457,   1.7150301 ,   1.17277265,  -6.21752661,\n",
       "          1.1723172 ,  -2.16286247,  15.30730751,  -3.25011392],\n",
       "       [  1.83105881,   2.2666238 ,   0.        ,   1.17601732,\n",
       "         -5.27369993,  -0.        ,  -3.25142559,  18.42664089]])"
      ]
     },
     "execution_count": 6,
     "metadata": {},
     "output_type": "execute_result"
    }
   ],
   "source": [
    "grid.J"
   ]
  },
  {
   "cell_type": "markdown",
   "metadata": {
    "collapsed": false
   },
   "source": [
    "## Voltage results\n",
    "\n",
    "These are the absolute values of the voltages of each node"
   ]
  },
  {
   "cell_type": "code",
   "execution_count": 7,
   "metadata": {
    "collapsed": false,
    "pycharm": {
     "name": "#%%\n"
    }
   },
   "outputs": [
    {
     "data": {
      "text/plain": [
       "[1.05, 1.08, 1.08, 1.075784186176316, 1.083181822558182, 1.0839984561389644]"
      ]
     },
     "execution_count": 7,
     "metadata": {},
     "output_type": "execute_result"
    }
   ],
   "source": [
    "grid.voltageLf"
   ]
  },
  {
   "cell_type": "markdown",
   "metadata": {
    "collapsed": false
   },
   "source": [
    "This method prints the results"
   ]
  },
  {
   "cell_type": "code",
   "execution_count": 8,
   "metadata": {
    "collapsed": false,
    "pycharm": {
     "name": "#%%\n"
    }
   },
   "outputs": [
    {
     "name": "stdout",
     "output_type": "stream",
     "text": [
      "Newton Raphson Results:\n",
      "\n",
      "| Bus |    V     |  Angle   |      Injection      |      Generation     |          Load      |\n",
      "| No  |    pu    |  Degree  |     MW   |   MVar   |     MW   |  Mvar    |     MW  |     MVar |\n",
      "|   0 |    1.050 |    0.000 |    1.427 |  -48.609 |    1.427 |  -48.609 |   0.000 |    0.000 |\n",
      "|   1 |    1.080 |   -0.011 |    0.500 |    4.926 |    0.500 |    4.926 |   0.000 |    0.000 |\n",
      "|   2 |    1.080 |   -0.011 |    0.600 |  -13.289 |    0.600 |  -13.289 |   0.000 |    0.000 |\n",
      "|   3 |    1.076 |   -0.009 |   -0.700 |   -0.700 |    0.000 |    0.000 |   0.700 |    0.700 |\n",
      "|   4 |    1.083 |   -0.012 |   -0.700 |   -0.700 |   -0.000 |   -0.000 |   0.700 |    0.700 |\n",
      "|   5 |    1.084 |   -0.012 |   -0.700 |   -0.700 |    0.000 |   -0.000 |   0.700 |    0.700 |\n",
      "----------------------------------------------------------------------------------------------\n",
      "\n",
      "Line flows and losses:\n",
      "\n",
      "|From  |To    |     P    |     Q    | From | To   |    P     |    Q     |     Line Loss       |\n",
      "|Bus   |Bus   |    MW    |    MVar  | Bus  | Bus  |    MW    |   MVar   |     MW   |    MVar  |\n",
      "|    0 |    1 |     0.99 |   -15.10 |    1 |    0 |     3.76 |    15.52 |     4.75 |     0.42 |\n",
      "|    0 |    3 |     3.57 |   -13.86 |    3 |    0 |     1.04 |    14.21 |     4.61 |     0.35 |\n",
      "|    0 |    4 |     4.59 |   -11.93 |    4 |    0 |     2.34 |    12.32 |     6.93 |     0.39 |\n",
      "|    1 |    2 |     3.40 |     0.02 |    2 |    1 |     3.60 |    -0.02 |     7.00 |     0.00 |\n",
      "|    1 |    3 |     0.56 |     4.86 |    3 |    1 |     1.78 |    -4.84 |     2.33 |     0.02 |\n",
      "|    1 |    4 |     2.20 |    -1.10 |    4 |    1 |     2.48 |     1.10 |     4.68 |     0.00 |\n",
      "|    1 |    5 |     2.83 |    -2.13 |    5 |    1 |     3.02 |     2.14 |     5.86 |     0.01 |\n",
      "|    2 |    4 |     2.72 |    -1.23 |    4 |    2 |     3.13 |     1.23 |     5.85 |     0.00 |\n",
      "|    2 |    5 |     1.86 |    -4.46 |    5 |    2 |     0.48 |     4.47 |     2.34 |     0.02 |\n",
      "|    3 |    4 |     4.58 |    -1.97 |    4 |    3 |     4.74 |     1.98 |     9.33 |     0.01 |\n",
      "|    4 |    5 |     3.62 |    -0.33 |    5 |    4 |     3.43 |     0.33 |     7.05 |     0.00 |\n",
      "----------------------------------------------------------------------------------------------\n",
      "\n",
      "Total active losses: 60.72, Total reactive losses: 1.23\n"
     ]
    }
   ],
   "source": [
    "grid.printResults()"
   ]
  },
  {
   "cell_type": "code",
   "execution_count": null,
   "metadata": {},
   "outputs": [],
   "source": []
  }
 ],
 "metadata": {
  "kernelspec": {
   "display_name": "venv",
   "language": "python",
   "name": "python3"
  },
  "language_info": {
   "codemirror_mode": {
    "name": "ipython",
    "version": 3
   },
   "file_extension": ".py",
   "mimetype": "text/x-python",
   "name": "python",
   "nbconvert_exporter": "python",
   "pygments_lexer": "ipython3",
   "version": "3.13.2"
  }
 },
 "nbformat": 4,
 "nbformat_minor": 0
}
